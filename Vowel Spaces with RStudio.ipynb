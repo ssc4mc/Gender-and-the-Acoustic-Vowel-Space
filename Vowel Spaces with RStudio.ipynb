{
    "cells": [
        {
            "metadata": {
                "collapsed": true
            },
            "cell_type": "markdown",
            "source": "### Average Vowel Space Areas"
        },
        {
            "metadata": {},
            "cell_type": "markdown",
            "source": "I used Daniel McCloy's 'phonR' package and followed his guidance here: [http://drammock.github.io/phonR/ ]"
        },
        {
            "metadata": {},
            "cell_type": "code",
            "source": "#import the excel file at exact sheet and selection of columns and rows\nlibrary(readxl)\nMFAC <- read_excel(\"MFAC.xlsx\", sheet = \"All\", \n                     +     range = \"H64:L88\")\n\n#view the dataset in R\nView(MFAC)\n\n#install package phonR\ninstall.packages(\"phonR\")\n\n#access library phonR\nlibrary(phonR)\n\n#create plot\nwith(MFAC, plotVowels(F1, F2, Vowel, group = Gender, pch.tokens = Vowel, cex.tokens = 1.2, alpha.tokens = 0.3, plot.means = TRUE, pch.means = Vowel, cex.means = 2, var.col.by = Gender, var.sty.by = Gender, hull.line = TRUE, hull.fill = TRUE, fill.opacity = 0.1, xlim = c(3500, 500), ylim = c(1200, 200), main = \"Spoken (Hz)\", legend.kwd = \"bottomleft\", pretty = TRUE))\n\n#assigning variables in order to calculate areas\npoly.area <- with(MFAC, vowelMeansPolygonArea(F1, F2, Vowel, poly.order = c(\"seed\", \"sad\", \"sod\", \"sued\"), group = Gender))\nhull.area <- with(MFAC, convexHullArea(F1, F2, group = Gender))\n\n#returns the areas in a simple table\nrbind(poly.area, hull.area)",
            "execution_count": 1,
            "outputs": [
                {
                    "output_type": "error",
                    "ename": "ERROR",
                    "evalue": "Error in parse(text = x, srcfile = src): <text>:4:34: unexpected '='\n3: MFAC <- read_excel(\"MFAC.xlsx\", sheet = \"All\", \n4:                      +     range =\n                                    ^\n",
                    "traceback": [
                        "Error in parse(text = x, srcfile = src): <text>:4:34: unexpected '='\n3: MFAC <- read_excel(\"MFAC.xlsx\", sheet = \"All\", \n4:                      +     range =\n                                    ^\nTraceback:\n"
                    ]
                }
            ]
        },
        {
            "metadata": {},
            "cell_type": "code",
            "source": "",
            "execution_count": null,
            "outputs": []
        }
    ],
    "metadata": {
        "kernelspec": {
            "name": "r-3.6",
            "display_name": "R 3.6",
            "language": "R"
        },
        "language_info": {
            "name": "R",
            "codemirror_mode": "r",
            "pygments_lexer": "r",
            "mimetype": "text/x-r-source",
            "file_extension": ".r",
            "version": "3.6.0"
        }
    },
    "nbformat": 4,
    "nbformat_minor": 1
}